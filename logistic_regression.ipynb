{
 "cells": [
  {
   "cell_type": "code",
   "execution_count": 243,
   "metadata": {},
   "outputs": [],
   "source": [
    "import numpy as np \n",
    "import pandas as pd\n",
    "import csv\n",
    "import matplotlib.pyplot as plt\n",
    "import sklearn\n",
    "from sklearn.model_selection import train_test_split \n",
    "import sklearn.datasets\n",
    "from sklearn.metrics import confusion_matrix"
   ]
  },
  {
   "cell_type": "code",
   "execution_count": 244,
   "metadata": {},
   "outputs": [
    {
     "name": "stdout",
     "output_type": "stream",
     "text": [
      "(569, 32)\n"
     ]
    }
   ],
   "source": [
    "#read data file\n",
    "data_read = pd.read_csv('wdbc.csv', delimiter = ',', names = ['ID'\n",
    "                                                            , 'diagnosis'\n",
    "                                                            , 'radius_mean'\n",
    "                                                            , 'texture_mean'\n",
    "                                                            , 'perimeter_mean'\n",
    "                                                            , 'area_mean'\n",
    "                                                            , 'smoothness_mean'\n",
    "                                                            , 'compactness_mean'\n",
    "                                                            , 'concavity_mean'\n",
    "                                                            , 'concave_points_mean'\n",
    "                                                            , 'symmetry_mean'\n",
    "                                                            , 'fractal_dimension_mean'\n",
    "                                                            , 'radius_SE'\n",
    "                                                            , 'texture_SE'\n",
    "                                                            , 'perimeter_SE'\n",
    "                                                            , 'area_SE'\n",
    "                                                            , 'smoothness_SE'\n",
    "                                                            , 'compactness_SE'\n",
    "                                                            , 'concavity_SE'\n",
    "                                                            , 'concave_points_SE'\n",
    "                                                            , 'symmetry_SE'\n",
    "                                                            , 'fractal_dimension_SE'\n",
    "                                                            , 'radius_worstORlargest'\n",
    "                                                            , 'texture_worstORlargest'\n",
    "                                                            , 'perimeter_worstORlargest'\n",
    "                                                            , 'area_worstORlargest'\n",
    "                                                            , 'smoothness_worstORlargest'\n",
    "                                                            , 'compactness_worstORlargest'\n",
    "                                                            , 'concavity_worstORlargest'\n",
    "                                                            , 'concave_points_worstORlargest'\n",
    "                                                            , 'symmetry_worstORlargest'\n",
    "                                                            , 'fractal_dimension_worstORlargest'\n",
    "                                                            ])\n",
    "print(data_read.shape)"
   ]
  },
  {
   "cell_type": "code",
   "execution_count": 245,
   "metadata": {},
   "outputs": [
    {
     "name": "stdout",
     "output_type": "stream",
     "text": [
      "(569, 31)\n"
     ]
    }
   ],
   "source": [
    "#drop column ID\n",
    "data_read = data_read.drop(['ID'],axis = 1)\n",
    "print(data_read.shape)"
   ]
  },
  {
   "cell_type": "code",
   "execution_count": 246,
   "metadata": {},
   "outputs": [],
   "source": [
    "#mapping label diagnosis to 0 and 1\n",
    "data_read['diagnosis'] = data_read['diagnosis'].map({'B':0, 'M':1})"
   ]
  },
  {
   "cell_type": "code",
   "execution_count": 247,
   "metadata": {},
   "outputs": [
    {
     "name": "stdout",
     "output_type": "stream",
     "text": [
      "(569, 30)\n"
     ]
    }
   ],
   "source": [
    "#allocating x values --> all columns except diagnosis\n",
    "x=data_read.iloc[:,1:]\n",
    "print(x.shape)"
   ]
  },
  {
   "cell_type": "code",
   "execution_count": 248,
   "metadata": {},
   "outputs": [
    {
     "name": "stdout",
     "output_type": "stream",
     "text": [
      "(569,)\n",
      "(569, 1)\n"
     ]
    }
   ],
   "source": [
    "#allocating y values --> diagnosis column\n",
    "y = data_read['diagnosis'].values\n",
    "print(y.shape)\n",
    "y = y.reshape(y.shape[0],1)\n",
    "print(y.shape)"
   ]
  },
  {
   "cell_type": "code",
   "execution_count": 249,
   "metadata": {},
   "outputs": [
    {
     "name": "stdout",
     "output_type": "stream",
     "text": [
      "(569, 30)\n"
     ]
    }
   ],
   "source": [
    "#normalizing the data\n",
    "x = (x - np.min(x))/(np.max(x) - np.min(x)).values\n",
    "print(x.shape)"
   ]
  },
  {
   "cell_type": "code",
   "execution_count": 250,
   "metadata": {},
   "outputs": [],
   "source": [
    "#splitting data into train-test --> 80%-20%\n",
    "x_train, x_test, y_train, y_test = train_test_split( x, y, test_size = 0.2, random_state = 0) "
   ]
  },
  {
   "cell_type": "code",
   "execution_count": 251,
   "metadata": {},
   "outputs": [],
   "source": [
    "#splitting test data into validation-test --> 50%-50%\n",
    "x_test, x_val, y_test, y_val = train_test_split( x_test, y_test, test_size = 0.5, random_state = 0)"
   ]
  },
  {
   "cell_type": "code",
   "execution_count": 252,
   "metadata": {},
   "outputs": [
    {
     "name": "stdout",
     "output_type": "stream",
     "text": [
      "After splitting into train-val-test\n",
      "x train :  (455, 30)\n",
      "x val   :  (57, 30)\n",
      "x test  :  (57, 30)\n",
      "y train :  (455, 1)\n",
      "y val   :  (57, 1)\n",
      "y test  :  (57, 1)\n"
     ]
    }
   ],
   "source": [
    "print(\"After splitting into train-val-test\")\n",
    "print(\"x train : \", x_train.shape) \n",
    "print(\"x val   : \", x_val.shape) \n",
    "print(\"x test  : \", x_test.shape) \n",
    "print(\"y train : \", y_train.shape)\n",
    "print(\"y val   : \", y_val.shape) \n",
    "print(\"y test  : \", y_test.shape)"
   ]
  },
  {
   "cell_type": "code",
   "execution_count": 253,
   "metadata": {},
   "outputs": [],
   "source": [
    "#getting transpose of all datasets\n",
    "x_train = x_train.T \n",
    "x_val = x_val.T\n",
    "x_test = x_test.T \n",
    "y_train = y_train.T \n",
    "y_val = y_val.T\n",
    "y_test = y_test.T"
   ]
  },
  {
   "cell_type": "code",
   "execution_count": 254,
   "metadata": {},
   "outputs": [
    {
     "name": "stdout",
     "output_type": "stream",
     "text": [
      "New shapes post transpose: After splitting into train-val-test\n",
      "x train :  (30, 455)\n",
      "x val   :  (30, 57)\n",
      "x test  :  (30, 57)\n",
      "y train :  (1, 455)\n",
      "y val   :  (1, 57)\n",
      "y test  :  (1, 57)\n"
     ]
    }
   ],
   "source": [
    "print(\"New shapes post transpose: After splitting into train-val-test\")\n",
    "print(\"x train : \", x_train.shape) \n",
    "print(\"x val   : \", x_val.shape) \n",
    "print(\"x test  : \", x_test.shape) \n",
    "print(\"y train : \", y_train.shape)\n",
    "print(\"y val   : \", y_val.shape) \n",
    "print(\"y test  : \", y_test.shape)"
   ]
  },
  {
   "cell_type": "code",
   "execution_count": 255,
   "metadata": {},
   "outputs": [],
   "source": [
    "#sigmoid function\n",
    "def sigmoid(z):\n",
    "    return 1/(1+np.exp(-z))"
   ]
  },
  {
   "cell_type": "code",
   "execution_count": 256,
   "metadata": {},
   "outputs": [
    {
     "name": "stdout",
     "output_type": "stream",
     "text": [
      "455\n"
     ]
    }
   ],
   "source": [
    "m = x_train.shape[1]\n",
    "print(m)"
   ]
  },
  {
   "cell_type": "code",
   "execution_count": 257,
   "metadata": {},
   "outputs": [
    {
     "name": "stdout",
     "output_type": "stream",
     "text": [
      "(30, 1)\n",
      "(30, 1)\n"
     ]
    }
   ],
   "source": [
    "#initializing weights\n",
    "w1 = np.full((x_train.shape[0], 1), 0.01)\n",
    "print(w1.shape)\n",
    "w2 = np.full((x_train.shape[0], 1), 0.01)\n",
    "print(w2.shape)"
   ]
  },
  {
   "cell_type": "code",
   "execution_count": 258,
   "metadata": {},
   "outputs": [],
   "source": [
    "#initializing bias\n",
    "b = 0"
   ]
  },
  {
   "cell_type": "code",
   "execution_count": 259,
   "metadata": {},
   "outputs": [],
   "source": [
    "#predicting y values for train/test/val datasets\n",
    "def predict(w, b, X_data):\n",
    "    X = X_data\n",
    "    Y_predicted_value = np.zeros((1,X.shape[1]))\n",
    "    A = sigmoid(np.dot(w.T, X) + b)\n",
    "    for i in range(A.shape[1]):\n",
    "        Y_predicted_value[0, i] = 0 if A[0, i] <= 0.5 else 1\n",
    "    return Y_predicted_value"
   ]
  },
  {
   "cell_type": "code",
   "execution_count": 260,
   "metadata": {},
   "outputs": [],
   "source": [
    "#using confusion matrix, computing the accuracy, precision and recall\n",
    "def APR_calc(data, prediction_data):\n",
    "    conf_matrix = confusion_matrix(data.T, prediction_data.T)\n",
    "    TP = conf_matrix[0][0]\n",
    "    FN = conf_matrix[0][1]\n",
    "    FP = conf_matrix[1][0]\n",
    "    TN = conf_matrix[1][1]\n",
    "    accuracy = ((TP + TN)/(TP + TN + FN + FP)) * 100\n",
    "    print('accuracy is {}%'.format(accuracy))\n",
    "    precision = ((TP)/(TP + FP) ) * 100\n",
    "    print('precision is {}%'.format(precision))\n",
    "    recall = ((TP)/(TP + FN)) * 100\n",
    "    print('recall is {}%'.format(recall))"
   ]
  },
  {
   "cell_type": "code",
   "execution_count": 261,
   "metadata": {},
   "outputs": [],
   "source": [
    "losstrack = []"
   ]
  },
  {
   "cell_type": "code",
   "execution_count": 262,
   "metadata": {},
   "outputs": [],
   "source": [
    "losstrack1 = []\n",
    "losstrack2 = []\n",
    "b1=0\n",
    "b2=0"
   ]
  },
  {
   "cell_type": "code",
   "execution_count": 263,
   "metadata": {},
   "outputs": [],
   "source": [
    "def plot_cost_function(cost1,cost2):\n",
    "    plt.plot(cost1,label=\"training_loss\")\n",
    "    plt.plot(cost2,label=\"validation_loss\")\n",
    "    plt.xlabel('Iterations',fontweight=\"bold\",fontsize = 12)\n",
    "    plt.ylabel('Loss',fontweight=\"bold\",fontsize = 12)\n",
    "    plt.title(\"Cost Function\",fontweight=\"bold\",fontsize = 16)\n",
    "    plt.legend()\n",
    "    plt.show()"
   ]
  },
  {
   "cell_type": "code",
   "execution_count": 264,
   "metadata": {},
   "outputs": [],
   "source": [
    "label = \" \""
   ]
  },
  {
   "cell_type": "code",
   "execution_count": 265,
   "metadata": {},
   "outputs": [],
   "source": [
    "def accuracyplot(train_accuracy, val_accuracy, label):\n",
    "    plt.plot(train_accuracy, label= 'training_accuracy')\n",
    "    plt.plot(val_accuracy, label= 'validation_accuracy')\n",
    "    plt.xlabel('Epochs')\n",
    "    plt.ylabel('Accuracy')\n",
    "    plt.title('Training data accuracy vs Validation data accuracy')\n",
    "    plt.legend()\n",
    "    plt.show()"
   ]
  },
  {
   "cell_type": "code",
   "execution_count": 266,
   "metadata": {},
   "outputs": [],
   "source": [
    "losstrack = []\n",
    "valLoss = []\n",
    "trainAccuracy = []\n",
    "valAccuracy = []"
   ]
  },
  {
   "cell_type": "code",
   "execution_count": 267,
   "metadata": {},
   "outputs": [
    {
     "data": {
      "image/png": "[encoded data removed]",
      "text/plain": [
       "<Figure size 432x288 with 1 Axes>"
      ]
     },
     "metadata": {},
     "output_type": "display_data"
    }
   ],
   "source": [
    "#applying the sigmoid function, cost function and obtaining updated weights and bias \n",
    "#and plotting graph for epochs vs train/val data\n",
    "epochs=50000\n",
    "x_values1=x_train\n",
    "y_values1=y_train\n",
    "x_values2=x_val\n",
    "y_values2=y_val\n",
    "learningRate=0.05\n",
    "accuracy_graph = []\n",
    "for epoch in range(epochs):\n",
    "    z1 = np.dot(w1.T, x_values1) + b1\n",
    "    p1 = sigmoid(z1)\n",
    "    cost1 = -np.sum(np.multiply(np.log(p1), y_values1) + np.multiply((1 - y_values1), np.log(1 - p1)))/m\n",
    "    losstrack1.append(np.squeeze(cost1))\n",
    "    dz1 = p1 - y_values1\n",
    "    #updating wts and bias\n",
    "    dw1 = (1/m) * np.dot(x_values1, dz1.T)\n",
    "    db1 = (1/m) * np.sum(dz1)\n",
    "    w1 = w1 - learningRate * dw1\n",
    "    b1 = b1 - learningRate * db1\n",
    "    \n",
    "    z2 = np.dot(w2.T, x_values2) + b2\n",
    "    p2 = sigmoid(z2)\n",
    "    cost2 = -np.sum(np.multiply(np.log(p2), y_values2) + np.multiply((1 - y_values2), np.log(1 - p2)))/m\n",
    "    losstrack2.append(np.squeeze(cost2))\n",
    "    dz2 = p2 - y_values2\n",
    "    #updating wts and bias\n",
    "    dw2 = (1/m) * np.dot(x_values2, dz2.T)\n",
    "    db2 = (1/m) * np.sum(dz2)\n",
    "    w2 = w2 - learningRate * dw2\n",
    "    b2 = b2 - learningRate * db2\n",
    "\n",
    "plot_cost_function(losstrack1,losstrack2 )"
   ]
  },
  {
   "cell_type": "code",
   "execution_count": 268,
   "metadata": {},
   "outputs": [
    {
     "data": {
      "image/png": "[encoded data removed]",
      "text/plain": [
       "<Figure size 432x288 with 1 Axes>"
      ]
     },
     "metadata": {},
     "output_type": "display_data"
    }
   ],
   "source": [
    "#training the weights and bias for training_data and validation datasets to compute their accuracy\n",
    "for epoch in range(epochs):\n",
    "    z = np.dot(w.T, x_train) + b\n",
    "    p = sigmoid(z)\n",
    "    cost = -np.sum(np.multiply(np.log(p), y_train) + np.multiply((1 - y_train),np.log(1 - p)))/m\n",
    "    losstrack.append(np.squeeze(cost))\n",
    "    \n",
    "    dz = p - y_train\n",
    "    dw = (1/m) * np.dot(x_train, dz.T)\n",
    "    db = (1/m) * np.sum(dz)\n",
    "    w = w - learning_rate * dw\n",
    "    b = b - learning_rate * db\n",
    "    \n",
    "    z1 = np.dot(w.T, x_val) + b\n",
    "    p1 = sigmoid(z1)\n",
    "    validation_cost = -np.sum(np.multiply(np.log(p1), y_val) + np.multiply((1 - y_val),np.log(1 - p1)))/m\n",
    "    valLoss.append(np.squeeze(validation_cost))\n",
    "    \n",
    "    Y_prediction_train = predict(w, b, x_train)\n",
    "    Y_prediction_train = Y_prediction_train.astype(int)[0]\n",
    "    \n",
    "    Y_prediction_val = predict(w, b, x_val)\n",
    "    Y_prediction_val = Y_prediction_val.astype(int)[0]\n",
    "    \n",
    "    train_accuracy = ((100 - np.mean(np.abs(Y_prediction_train -  y_train[0])) * 100))\n",
    "    val_accuracy = ((100 - np.mean(np.abs(Y_prediction_val -  y_val[0])) * 100))\n",
    "    \n",
    "    trainAccuracy.append(train_accuracy)\n",
    "    valAccuracy.append(val_accuracy)\n",
    "\n",
    "accuracyplot(trainAccuracy, valAccuracy, learning_rate)"
   ]
  },
  {
   "cell_type": "code",
   "execution_count": 269,
   "metadata": {},
   "outputs": [],
   "source": [
    "#predicting y values for test dataset\n",
    "Y_prediction_test = predict(w, b, x_test)"
   ]
  },
  {
   "cell_type": "code",
   "execution_count": 270,
   "metadata": {},
   "outputs": [
    {
     "name": "stdout",
     "output_type": "stream",
     "text": [
      "accuracy is 96.49122807017544%\n",
      "precision is 94.5945945945946%\n",
      "recall is 100.0%\n"
     ]
    }
   ],
   "source": [
    "APR_calc(y_test, Y_prediction_test)"
   ]
  },
  {
   "cell_type": "code",
   "execution_count": 271,
   "metadata": {},
   "outputs": [],
   "source": [
    "#predicting y values for validation dataset\n",
    "Y_prediction_validation = predict(w, b, x_val)"
   ]
  },
  {
   "cell_type": "code",
   "execution_count": 272,
   "metadata": {},
   "outputs": [
    {
     "name": "stdout",
     "output_type": "stream",
     "text": [
      "accuracy is 96.49122807017544%\n",
      "precision is 96.875%\n",
      "recall is 96.875%\n"
     ]
    }
   ],
   "source": [
    "APR_calc(y_val, Y_prediction_validation)"
   ]
  },
  {
   "cell_type": "code",
   "execution_count": 273,
   "metadata": {},
   "outputs": [],
   "source": [
    "#predicting y values for training dataset\n",
    "Y_prediction_train = predict(w, b, x_train)"
   ]
  },
  {
   "cell_type": "code",
   "execution_count": 274,
   "metadata": {},
   "outputs": [
    {
     "name": "stdout",
     "output_type": "stream",
     "text": [
      "accuracy is 96.92307692307692%\n",
      "precision is 96.30872483221476%\n",
      "recall is 98.9655172413793%\n"
     ]
    }
   ],
   "source": [
    "APR_calc(y_train, Y_prediction_train)"
   ]
  },
  {
   "cell_type": "code",
   "execution_count": null,
   "metadata": {},
   "outputs": [],
   "source": []
  },
  {
   "cell_type": "code",
   "execution_count": null,
   "metadata": {},
   "outputs": [],
   "source": []
  }
 ],
 "metadata": {
  "kernelspec": {
   "display_name": "Python 3",
   "language": "python",
   "name": "python3"
  },
  "language_info": {
   "codemirror_mode": {
    "name": "ipython",
    "version": 3
   },
   "file_extension": ".py",
   "mimetype": "text/x-python",
   "name": "python",
   "nbconvert_exporter": "python",
   "pygments_lexer": "ipython3",
   "version": "3.6.5"
  }
 },
 "nbformat": 4,
 "nbformat_minor": 2
}
